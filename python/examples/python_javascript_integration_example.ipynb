{
 "cells": [
  {
   "cell_type": "markdown",
   "id": "bb08c2bc",
   "metadata": {},
   "source": [
    "# WAVE Client Python-JavaScript Integration Example\n",
    "\n",
    "This notebook demonstrates the complete workflow of using both Python and JavaScript WAVE clients:\n",
    "\n",
    "1. **Python Setup**: Create experiment and experiment type using Python client\n",
    "2. **JavaScript Data Collection**: Generate an HTML page that uses the JavaScript client to log data\n",
    "3. **Python Analysis**: Retrieve and analyze the data collected via JavaScript\n",
    "4. **Cleanup**: Remove the test data\n",
    "\n",
    "## Prerequisites\n",
    "\n",
    "1. **WAVE Backend**: Running at `http://localhost:8000`\n",
    "2. **Dependencies**: Run `make setup-local-dev` and select the python kernel in `.venv`\n",
    "3. **API Key**: Set `WAVE_API_KEY` in your `.env` file\n",
    "4. **Web Server**: You'll need to serve the generated HTML file via HTTP (not file://)"
   ]
  },
  {
   "cell_type": "markdown",
   "id": "f97d0276",
   "metadata": {},
   "source": [
    "## Setup and Imports"
   ]
  },
  {
   "cell_type": "code",
   "execution_count": null,
   "id": "02c8732d",
   "metadata": {},
   "outputs": [
    {
     "name": "stdout",
     "output_type": "stream",
     "text": [
      "✓ Connecting to http://localhost:8000\n",
      "✓ API Key loaded (ending in: ...Pcv3KB)\n"
     ]
    }
   ],
   "source": [
    "import os\n",
    "import pandas as pd\n",
    "from datetime import datetime\n",
    "from dotenv import load_dotenv\n",
    "from wave_client import WaveClient\n",
    "from urllib.parse import quote\n",
    "import webbrowser\n",
    "from pathlib import Path\n",
    "\n",
    "# Load environment variables\n",
    "load_dotenv()\n",
    "API_KEY = os.getenv(\"WAVE_API_KEY\")\n",
    "BASE_URL = os.getenv(\"WAVE_API_URL\", \"http://localhost:8000\")\n",
    "\n",
    "if not API_KEY:\n",
    "    raise ValueError(\"Please set WAVE_API_KEY in your .env file\")\n",
    "\n",
    "print(f\"✓ Connecting to {BASE_URL}\")\n",
    "print(f\"✓ API Key loaded (ending in: ...{API_KEY[-4:]})\")"
   ]
  },
  {
   "cell_type": "code",
   "execution_count": 2,
   "id": "d47274df",
   "metadata": {},
   "outputs": [
    {
     "name": "stdout",
     "output_type": "stream",
     "text": [
      "✓ Backend status: healthy\n",
      "✓ API version: 1.0.0\n"
     ]
    }
   ],
   "source": [
    "# Initialize client and test connection\n",
    "client = WaveClient(api_key=API_KEY, base_url=BASE_URL)\n",
    "\n",
    "# Test connection\n",
    "health = await client.get_health()\n",
    "version = await client.get_version()\n",
    "\n",
    "print(f\"✓ Backend status: {health['status']}\")\n",
    "print(f\"✓ API version: {version.get('api_version', 'unknown')}\")"
   ]
  },
  {
   "cell_type": "markdown",
   "id": "add5b329",
   "metadata": {},
   "source": [
    "## Step 1: Create Experiment Setup (Python)"
   ]
  },
  {
   "cell_type": "code",
   "execution_count": 3,
   "id": "b2989364",
   "metadata": {},
   "outputs": [
    {
     "name": "stdout",
     "output_type": "stream",
     "text": [
      "✓ Created experiment type: JS Integration Demo 20250806_214923 (ID: 9)\n",
      "✓ Table name: js_demo_20250806_214923\n"
     ]
    }
   ],
   "source": [
    "# Create a unique experiment type for this demo\n",
    "demo_name = f\"JS Integration Demo {datetime.now().strftime('%Y%m%d_%H%M%S')}\"\n",
    "table_name = f\"js_demo_{datetime.now().strftime('%Y%m%d_%H%M%S')}\"\n",
    "\n",
    "try:\n",
    "    exp_type = await client.experiment_types.create(\n",
    "        name=demo_name,\n",
    "        table_name=table_name,\n",
    "        description=\"Integration demo between Python and JavaScript clients\",\n",
    "        schema_definition={\n",
    "            \"trial_number\": \"INTEGER\",\n",
    "            \"reaction_time\": \"FLOAT\",\n",
    "            \"stimulus_color\": \"STRING\",\n",
    "            \"response_key\": \"STRING\",\n",
    "            \"accuracy\": \"BOOLEAN\",\n",
    "            \"timestamp\": \"STRING\",\n",
    "            \"user_agent\": \"STRING\",\n",
    "        },\n",
    "    )\n",
    "    exp_type_id = exp_type[\"id\"]\n",
    "    print(f\"✓ Created experiment type: {exp_type['name']} (ID: {exp_type_id})\")\n",
    "    print(f\"✓ Table name: {exp_type['table_name']}\")\n",
    "except Exception as e:\n",
    "    print(f\"Error creating experiment type: {e}\")\n",
    "    raise"
   ]
  },
  {
   "cell_type": "code",
   "execution_count": 4,
   "id": "e78ae90a",
   "metadata": {},
   "outputs": [
    {
     "name": "stdout",
     "output_type": "stream",
     "text": [
      "✓ Created experiment: JavaScript integration demo - 2025-08-06 21:49:23\n",
      "✓ Experiment ID: 461b7ebc-4457-4f35-a4fe-1f301d98e8f6\n"
     ]
    }
   ],
   "source": [
    "# Create the experiment\n",
    "try:\n",
    "    experiment = await client.experiments.create(\n",
    "        experiment_type_id=exp_type_id,\n",
    "        description=f\"JavaScript integration demo - {datetime.now().strftime('%Y-%m-%d %H:%M:%S')}\",\n",
    "        tags=[],\n",
    "        additional_data={\n",
    "            \"created_by\": \"python_notebook\",\n",
    "            \"integration_demo\": True,\n",
    "            \"demo_type\": \"python_js_integration\",\n",
    "        },\n",
    "    )\n",
    "    experiment_id = str(experiment[\"uuid\"])\n",
    "    print(f\"✓ Created experiment: {experiment['description']}\")\n",
    "    print(f\"✓ Experiment ID: {experiment_id}\")\n",
    "except Exception as e:\n",
    "    print(f\"Error creating experiment: {e}\")\n",
    "    raise"
   ]
  },
  {
   "cell_type": "markdown",
   "id": "812062a1",
   "metadata": {},
   "source": [
    "## Step 2: Generate Interactive HTML Page (JavaScript Client)"
   ]
  },
  {
   "cell_type": "code",
   "execution_count": 5,
   "id": "f52e1cd2",
   "metadata": {},
   "outputs": [
    {
     "name": "stdout",
     "output_type": "stream",
     "text": [
      "✓ Using JavaScript example at: /Users/douglas.wong1/code/wave-lab/wave-client/javascript/examples/simple-experiment.html\n",
      "✓ File exists: True\n",
      "✓ The example has been pre-modified to support:\n",
      "  • URL parameter extraction for experiment_id and participant_id\n",
      "  • Enhanced data logging with all required schema fields\n",
      "  • Integration-ready configuration\n"
     ]
    }
   ],
   "source": [
    "# Reference the existing JavaScript example (already modified to support our integration)\n",
    "# Use pathlib for cleaner path handling\n",
    "current_file = Path(__file__) if \"__file__\" in globals() else Path.cwd() / \"dummy.py\"\n",
    "js_example_path = (\n",
    "    current_file.parent.parent.parent / \"javascript\" / \"examples\" / \"simple-experiment.html\"\n",
    ")\n",
    "\n",
    "# Check if file exists\n",
    "if not js_example_path.exists():\n",
    "    # Try alternative path resolution\n",
    "    current_dir = Path.cwd()\n",
    "    alt_path = current_dir / \"javascript\" / \"examples\" / \"simple-experiment.html\"\n",
    "    if alt_path.exists():\n",
    "        js_example_path = alt_path\n",
    "    else:\n",
    "        print(f\"❌ Could not find simple-experiment.html\")\n",
    "        print(f\"   Tried: {js_example_path}\")\n",
    "        print(f\"   Also tried: {alt_path}\")\n",
    "        print(f\"   Current directory: {current_dir}\")\n",
    "        raise FileNotFoundError(\"JavaScript example file not found\")\n",
    "\n",
    "print(f\"✓ Using JavaScript example at: {js_example_path}\")\n",
    "print(f\"✓ File exists: {js_example_path.exists()}\")\n",
    "print(f\"✓ The example has been pre-modified to support:\")\n",
    "print(f\"  • URL parameter extraction for experiment_id and participant_id\")\n",
    "print(f\"  • Enhanced data logging with all required schema fields\")\n",
    "print(f\"  • Integration-ready configuration\")"
   ]
  },
  {
   "cell_type": "code",
   "execution_count": 6,
   "id": "a6319188",
   "metadata": {},
   "outputs": [
    {
     "name": "stdout",
     "output_type": "stream",
     "text": [
      "📁 Project root: /Users/douglas.wong1/code/wave-lab/wave-client\n",
      "🌐 HTTP Server started at http://localhost:8080\n",
      "🌐 EXPERIMENT READY!\n",
      "==================================================\n",
      "🌐 HTTP Server: http://localhost:8080\n",
      "📁 HTML File: /Users/douglas.wong1/code/wave-lab/wave-client/javascript/examples/simple-experiment.html\n",
      "🔗 Full URL: http://localhost:8080/javascript/examples/simple-experiment.html?key=[HIDDEN]&experiment_id=461b7ebc-4457-4f35-a4fe-1f301d98e8f6&participant_id=demo_participant_214923\n",
      "\n",
      "📋 INSTRUCTIONS:\n",
      "1. Click the link below or copy the URL above\n",
      "2. Complete the reaction time task (5 trials)\n",
      "3. Return here to analyze the data\n",
      "\n",
      "💡 ABOUT THIS EXPERIMENT:\n",
      "• Uses the JavaScript example served over HTTP (avoids CORS issues)\n",
      "• URL parameters provide experiment_id, participant_id, and API key\n",
      "• Data automatically logged with our experiment schema\n",
      "• Simple click-based reaction time task\n",
      "\n",
      "🚀 Opening experiment in browser...\n",
      "✓ Browser opened with experiment ready to run.\n",
      "💡 Server will run in background - experiment should work now!\n",
      "🌐 EXPERIMENT READY!\n",
      "==================================================\n",
      "🌐 HTTP Server: http://localhost:8080\n",
      "📁 HTML File: /Users/douglas.wong1/code/wave-lab/wave-client/javascript/examples/simple-experiment.html\n",
      "🔗 Full URL: http://localhost:8080/javascript/examples/simple-experiment.html?key=[HIDDEN]&experiment_id=461b7ebc-4457-4f35-a4fe-1f301d98e8f6&participant_id=demo_participant_214923\n",
      "\n",
      "📋 INSTRUCTIONS:\n",
      "1. Click the link below or copy the URL above\n",
      "2. Complete the reaction time task (5 trials)\n",
      "3. Return here to analyze the data\n",
      "\n",
      "💡 ABOUT THIS EXPERIMENT:\n",
      "• Uses the JavaScript example served over HTTP (avoids CORS issues)\n",
      "• URL parameters provide experiment_id, participant_id, and API key\n",
      "• Data automatically logged with our experiment schema\n",
      "• Simple click-based reaction time task\n",
      "\n",
      "🚀 Opening experiment in browser...\n",
      "✓ Browser opened with experiment ready to run.\n",
      "💡 Server will run in background - experiment should work now!\n"
     ]
    },
    {
     "name": "stderr",
     "output_type": "stream",
     "text": [
      "127.0.0.1 - - [06/Aug/2025 21:49:25] \"GET /javascript/examples/simple-experiment.html?key=3ZVAv7r7G11UVMjmPuPcv3KB&experiment_id=461b7ebc-4457-4f35-a4fe-1f301d98e8f6&participant_id=demo_participant_214923 HTTP/1.1\" 200 -\n",
      "127.0.0.1 - - [06/Aug/2025 21:49:25] \"GET /javascript/src/wave-client.js HTTP/1.1\" 200 -\n",
      "127.0.0.1 - - [06/Aug/2025 21:49:25] \"GET /javascript/src/core/errors.js HTTP/1.1\" 200 -\n",
      "127.0.0.1 - - [06/Aug/2025 21:49:25] code 404, message File not found\n",
      "127.0.0.1 - - [06/Aug/2025 21:49:25] \"GET /favicon.ico HTTP/1.1\" 404 -\n",
      "127.0.0.1 - - [06/Aug/2025 21:49:25] \"GET /javascript/src/wave-client.js HTTP/1.1\" 200 -\n",
      "127.0.0.1 - - [06/Aug/2025 21:49:25] \"GET /javascript/src/core/errors.js HTTP/1.1\" 200 -\n",
      "127.0.0.1 - - [06/Aug/2025 21:49:25] code 404, message File not found\n",
      "127.0.0.1 - - [06/Aug/2025 21:49:25] \"GET /favicon.ico HTTP/1.1\" 404 -\n",
      "127.0.0.1 - - [06/Aug/2025 21:49:32] code 404, message File not found\n",
      "127.0.0.1 - - [06/Aug/2025 21:49:32] \"GET /.well-known/appspecific/com.chrome.devtools.json HTTP/1.1\" 404 -\n",
      "127.0.0.1 - - [06/Aug/2025 21:49:32] code 404, message File not found\n",
      "127.0.0.1 - - [06/Aug/2025 21:49:32] \"GET /.well-known/appspecific/com.chrome.devtools.json HTTP/1.1\" 404 -\n"
     ]
    }
   ],
   "source": [
    "# Generate the URL with all required parameters\n",
    "# Generate a sample participant ID for the demo\n",
    "sample_participant_id = f\"demo_participant_{datetime.now().strftime('%H%M%S')}\"\n",
    "\n",
    "# Get absolute path\n",
    "abs_path = js_example_path.resolve()\n",
    "\n",
    "# Start a local HTTP server to avoid CORS issues with file:// URLs\n",
    "import http.server\n",
    "import socketserver\n",
    "import threading\n",
    "import time\n",
    "\n",
    "# Find the project root (where javascript/ folder is)\n",
    "project_root = abs_path.parent.parent.parent\n",
    "print(f\"📁 Project root: {project_root}\")\n",
    "\n",
    "# Start HTTP server in a separate thread\n",
    "PORT = 8080\n",
    "server_dir = project_root\n",
    "\n",
    "class Handler(http.server.SimpleHTTPRequestHandler):\n",
    "    def __init__(self, *args, **kwargs):\n",
    "        super().__init__(*args, directory=server_dir, **kwargs)\n",
    "\n",
    "def start_server():\n",
    "    with socketserver.TCPServer((\"\", PORT), Handler) as httpd:\n",
    "        print(f\"🌐 HTTP Server started at http://localhost:{PORT}\")\n",
    "        httpd.serve_forever()\n",
    "\n",
    "# Start server in background thread\n",
    "server_thread = threading.Thread(target=start_server, daemon=True)\n",
    "server_thread.start()\n",
    "time.sleep(1)  # Give server time to start\n",
    "\n",
    "# Create HTTP URL instead of file URL\n",
    "http_url = f\"http://localhost:{PORT}/javascript/examples/simple-experiment.html\"\n",
    "\n",
    "# Create full URL with all required parameters\n",
    "full_url = (\n",
    "    f\"{http_url}\"\n",
    "    f\"?key={quote(API_KEY)}\"\n",
    "    f\"&experiment_id={quote(experiment_id)}\"\n",
    "    f\"&participant_id={quote(sample_participant_id)}\"\n",
    ")\n",
    "\n",
    "censored_url = full_url.replace(API_KEY, \"[HIDDEN]\")\n",
    "\n",
    "print(\"🌐 EXPERIMENT READY!\")\n",
    "print(\"=\" * 50)\n",
    "print(f\"🌐 HTTP Server: http://localhost:{PORT}\")\n",
    "print(f\"📁 HTML File: {abs_path}\")\n",
    "print(f\"🔗 Full URL: {censored_url}\")\n",
    "print(\"\\n📋 INSTRUCTIONS:\")\n",
    "print(\"1. Click the link below or copy the URL above\")\n",
    "print(\"2. Complete the reaction time task (5 trials)\")\n",
    "print(\"3. Return here to analyze the data\")\n",
    "print(\"\\n💡 ABOUT THIS EXPERIMENT:\")\n",
    "print(\"• Uses the JavaScript example served over HTTP (avoids CORS issues)\")\n",
    "print(\"• URL parameters provide experiment_id, participant_id, and API key\")\n",
    "print(\"• Data automatically logged with our experiment schema\")\n",
    "print(\"• Simple click-based reaction time task\")\n",
    "\n",
    "# Open in browser with HTTP URL\n",
    "print(f\"\\n🚀 Opening experiment in browser...\")\n",
    "try:\n",
    "    webbrowser.open(full_url)\n",
    "    print(\"✓ Browser opened with experiment ready to run.\")\n",
    "    print(\"💡 Server will run in background - experiment should work now!\")\n",
    "except Exception as e:\n",
    "    print(f\"❌ Could not open browser: {e}\")\n",
    "    print(f\"📋 Manual steps:\")\n",
    "    print(f\"   1. Open your browser\")\n",
    "    print(f\"   2. Navigate to: {censored_url}\")\n",
    "    print(f\"      (replace [HIDDEN] with your actual API key)\")"
   ]
  },
  {
   "cell_type": "markdown",
   "id": "b938eada",
   "metadata": {},
   "source": [
    "## Step 3: Monitor Data Collection\n",
    "\n",
    "**⏸️ PAUSE HERE**: Complete the web experiment before continuing\n",
    "\n",
    "Run the cell below to check for newly collected data:"
   ]
  },
  {
   "cell_type": "code",
   "execution_count": 7,
   "id": "86d4ff5d",
   "metadata": {},
   "outputs": [
    {
     "name": "stdout",
     "output_type": "stream",
     "text": [
      "🔍 Checking for experiment data...\n",
      "📊 Experiment ID: 461b7ebc-4457-4f35-a4fe-1f301d98e8f6\n",
      "⏳ No data found yet. Complete the web experiment first.\n",
      "   Then run this cell again to check for data.\n"
     ]
    }
   ],
   "source": [
    "# Check for data periodically\n",
    "print(\"🔍 Checking for experiment data...\")\n",
    "print(f\"📊 Experiment ID: {experiment_id}\")\n",
    "\n",
    "try:\n",
    "    # Get all data for this experiment\n",
    "    data_df = await client.experiment_data.get_all_data(experiment_id=experiment_id)\n",
    "\n",
    "    if len(data_df) > 0:\n",
    "        print(f\"✅ Found {len(data_df)} data points!\")\n",
    "        print(f\"📈 Participants: {data_df['participant_id'].nunique()}\")\n",
    "        print(\n",
    "            f\"📈 Latest trial: {data_df['trial_number'].max() if 'trial_number' in data_df.columns else 'N/A'}\"\n",
    "        )\n",
    "\n",
    "        # Show basic info about the data\n",
    "        print(\"\\n📋 Data Summary:\")\n",
    "        print(\n",
    "            data_df.groupby(\"participant_id\")\n",
    "            .agg({\"trial_number\": \"count\", \"reaction_time\": \"mean\", \"accuracy\": \"mean\"})\n",
    "            .round(3)\n",
    "        )\n",
    "\n",
    "    else:\n",
    "        print(\"⏳ No data found yet. Complete the web experiment first.\")\n",
    "        print(\"   Then run this cell again to check for data.\")\n",
    "\n",
    "except Exception as e:\n",
    "    print(f\"❌ Error retrieving data: {e}\")"
   ]
  },
  {
   "cell_type": "markdown",
   "id": "86250ed6",
   "metadata": {},
   "source": [
    "## Step 4: Cleanup"
   ]
  },
  {
   "cell_type": "code",
   "execution_count": 8,
   "id": "185a659b",
   "metadata": {},
   "outputs": [
    {
     "name": "stdout",
     "output_type": "stream",
     "text": [
      "🔒 Automatic cleanup disabled.\n",
      "\n",
      "📋 Manual cleanup instructions:\n",
      "   1. Experiment ID to delete: 461b7ebc-4457-4f35-a4fe-1f301d98e8f6\n",
      "   2. Experiment Type ID to delete: 9\n",
      "\n",
      "💡 To enable automatic cleanup, set cleanup_confirmed = True above\n"
     ]
    }
   ],
   "source": [
    "# Set to True if you want to execute the cleanup process\n",
    "cleanup_confirmed = False\n",
    "\n",
    "if cleanup_confirmed:\n",
    "    # Clean up the demo data\n",
    "    print(\"🧹 Cleaning up demo data...\")\n",
    "    print(\"⚠️  This will delete the experiment and all associated data.\")\n",
    "    try:\n",
    "        # Get all data for this experiment to delete\n",
    "        all_data = await client.experiment_data.get_all_data(experiment_id)\n",
    "\n",
    "        # Delete all experiment data first\n",
    "        if len(all_data) > 0:\n",
    "            print(f\"Deleting {len(all_data)} data points...\")\n",
    "            deleted_count = 0\n",
    "\n",
    "            for _, row in all_data.iterrows():\n",
    "                try:\n",
    "                    await client.experiment_data.delete_row(experiment_id, int(row[\"id\"]))\n",
    "                    deleted_count += 1\n",
    "                except Exception as e:\n",
    "                    print(f\"  Failed to delete row {row['id']}: {e}\")\n",
    "\n",
    "            print(f\"✓ Deleted {deleted_count} data rows\")\n",
    "        else:\n",
    "            print(\"ℹ️  No experiment data found to delete\")\n",
    "\n",
    "        # Delete the experiment\n",
    "        delete_response = await client.experiments.delete(experiment_id)\n",
    "        print(f\"✓ Deleted experiment: {experiment_id}\")\n",
    "\n",
    "        # Delete the experiment type\n",
    "        delete_type_response = await client.experiment_types.delete(exp_type_id)\n",
    "        print(f\"✓ Deleted experiment type: {exp_type_id}\")\n",
    "\n",
    "        print(\"\\n✅ Cleanup complete!\")\n",
    "\n",
    "    except Exception as e:\n",
    "        print(f\"❌ Error during cleanup: {e}\")\n",
    "        print(\"You may need to manually delete the experiment data.\")\n",
    "\n",
    "else:\n",
    "    print(\"🔒 Automatic cleanup disabled.\")\n",
    "    print(\"\\n📋 Manual cleanup instructions:\")\n",
    "    print(f\"   1. Experiment ID to delete: {experiment_id}\")\n",
    "    print(f\"   2. Experiment Type ID to delete: {exp_type_id}\")\n",
    "    print(\"\\n💡 To enable automatic cleanup, set cleanup_confirmed = True above\")"
   ]
  }
 ],
 "metadata": {
  "kernelspec": {
   "display_name": "wave-client",
   "language": "python",
   "name": "python3"
  },
  "language_info": {
   "codemirror_mode": {
    "name": "ipython",
    "version": 3
   },
   "file_extension": ".py",
   "mimetype": "text/x-python",
   "name": "python",
   "nbconvert_exporter": "python",
   "pygments_lexer": "ipython3",
   "version": "3.12.8"
  }
 },
 "nbformat": 4,
 "nbformat_minor": 5
}
